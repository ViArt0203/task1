{
 "cells": [
  {
   "cell_type": "code",
   "execution_count": 1,
   "metadata": {},
   "outputs": [],
   "source": [
    "import numpy as np\n",
    "import pandas as pd"
   ]
  },
  {
   "cell_type": "code",
   "execution_count": 57,
   "metadata": {},
   "outputs": [
    {
     "data": {
      "text/html": [
       "<div>\n",
       "<style scoped>\n",
       "    .dataframe tbody tr th:only-of-type {\n",
       "        vertical-align: middle;\n",
       "    }\n",
       "\n",
       "    .dataframe tbody tr th {\n",
       "        vertical-align: top;\n",
       "    }\n",
       "\n",
       "    .dataframe thead th {\n",
       "        text-align: right;\n",
       "    }\n",
       "</style>\n",
       "<table border=\"1\" class=\"dataframe\">\n",
       "  <thead>\n",
       "    <tr style=\"text-align: right;\">\n",
       "      <th></th>\n",
       "      <th>label</th>\n",
       "      <th>email</th>\n",
       "    </tr>\n",
       "  </thead>\n",
       "  <tbody>\n",
       "    <tr>\n",
       "      <th>0</th>\n",
       "      <td>spam</td>\n",
       "      <td>attn i am bulawa mulete jr the son of mr steve...</td>\n",
       "    </tr>\n",
       "    <tr>\n",
       "      <th>1</th>\n",
       "      <td>ham</td>\n",
       "      <td>That depends. How would you like to be treated...</td>\n",
       "    </tr>\n",
       "    <tr>\n",
       "      <th>2</th>\n",
       "      <td>ham</td>\n",
       "      <td>Wen u miss someone, the person is definitely s...</td>\n",
       "    </tr>\n",
       "    <tr>\n",
       "      <th>3</th>\n",
       "      <td>spam</td>\n",
       "      <td>Win the newest “Harry Potter and the Order of ...</td>\n",
       "    </tr>\n",
       "    <tr>\n",
       "      <th>4</th>\n",
       "      <td>ham</td>\n",
       "      <td>Where are you lover ? I need you ...</td>\n",
       "    </tr>\n",
       "    <tr>\n",
       "      <th>...</th>\n",
       "      <td>...</td>\n",
       "      <td>...</td>\n",
       "    </tr>\n",
       "    <tr>\n",
       "      <th>5858</th>\n",
       "      <td>ham</td>\n",
       "      <td>Eek that's a lot of time especially since Amer...</td>\n",
       "    </tr>\n",
       "    <tr>\n",
       "      <th>5859</th>\n",
       "      <td>ham</td>\n",
       "      <td>Aight I'll grab something to eat too, text me ...</td>\n",
       "    </tr>\n",
       "    <tr>\n",
       "      <th>5860</th>\n",
       "      <td>ham</td>\n",
       "      <td>I havent lei.. Next mon can?</td>\n",
       "    </tr>\n",
       "    <tr>\n",
       "      <th>5861</th>\n",
       "      <td>ham</td>\n",
       "      <td>Ok but tell me half an hr b4 u come i need 2 p...</td>\n",
       "    </tr>\n",
       "    <tr>\n",
       "      <th>5862</th>\n",
       "      <td>ham</td>\n",
       "      <td>on wed NUMBER NUMBER NUMBER at NUMBER NUMBER g...</td>\n",
       "    </tr>\n",
       "  </tbody>\n",
       "</table>\n",
       "<p>5863 rows × 2 columns</p>\n",
       "</div>"
      ],
      "text/plain": [
       "     label                                              email\n",
       "0     spam  attn i am bulawa mulete jr the son of mr steve...\n",
       "1      ham  That depends. How would you like to be treated...\n",
       "2      ham  Wen u miss someone, the person is definitely s...\n",
       "3     spam  Win the newest “Harry Potter and the Order of ...\n",
       "4      ham               Where are you lover ? I need you ...\n",
       "...    ...                                                ...\n",
       "5858   ham  Eek that's a lot of time especially since Amer...\n",
       "5859   ham  Aight I'll grab something to eat too, text me ...\n",
       "5860   ham                       I havent lei.. Next mon can?\n",
       "5861   ham  Ok but tell me half an hr b4 u come i need 2 p...\n",
       "5862   ham  on wed NUMBER NUMBER NUMBER at NUMBER NUMBER g...\n",
       "\n",
       "[5863 rows x 2 columns]"
      ]
     },
     "execution_count": 57,
     "metadata": {},
     "output_type": "execute_result"
    }
   ],
   "source": [
    "data_train = pd.read_csv('./train.csv')\n",
    "data_test = pd.read_csv('./test.csv')\n",
    "data_train"
   ]
  },
  {
   "cell_type": "code",
   "execution_count": 58,
   "metadata": {},
   "outputs": [],
   "source": [
    "data_train = data_train.dropna(subset=['email'])\n",
    "# data_train = data_train.dropna(subset=['label'])\n",
    "data_test = data_test.dropna(subset=['email'])\n",
    "# data_test = data_test.dropna(subset=['label'])\n"
   ]
  },
  {
   "cell_type": "code",
   "execution_count": null,
   "metadata": {},
   "outputs": [],
   "source": [
    "import warnings\n",
    "import numpy as np\n",
    "import matplotlib.pyplot as plt\n",
    "import seaborn as sns\n",
    "from sklearn.model_selection import StratifiedKFold, GridSearchCV\n",
    "from sklearn.feature_extraction.text import TfidfVectorizer\n",
    "from sklearn.svm import SVC\n",
    "from sklearn.linear_model import LogisticRegression\n",
    "from sklearn.ensemble import RandomForestClassifier, GradientBoostingClassifier, AdaBoostClassifier, ExtraTreesClassifier\n",
    "from sklearn.neighbors import KNeighborsClassifier\n",
    "from sklearn.tree import DecisionTreeClassifier\n",
    "from sklearn.naive_bayes import MultinomialNB\n",
    "from sklearn.metrics import accuracy_score, classification_report, confusion_matrix\n",
    "from xgboost import XGBClassifier\n",
    "from lightgbm import LGBMClassifier\n",
    "from sklearn.preprocessing import LabelEncoder"
   ]
  },
  {
   "cell_type": "code",
   "execution_count": 59,
   "metadata": {},
   "outputs": [
    {
     "data": {
      "text/plain": [
       "<5844x5000 sparse matrix of type '<class 'numpy.float64'>'\n",
       "\twith 233366 stored elements in Compressed Sparse Row format>"
      ]
     },
     "execution_count": 59,
     "metadata": {},
     "output_type": "execute_result"
    }
   ],
   "source": [
    "vectorizer = TfidfVectorizer(max_features=5000)\n",
    "X_train = vectorizer.fit_transform(data_train['email'])\n",
    "y_train = data_train['label']\n",
    "X_test = vectorizer.transform(data_test['email'])\n",
    "y_test = data_test['label']\n",
    "X_train"
   ]
  },
  {
   "cell_type": "code",
   "execution_count": 61,
   "metadata": {},
   "outputs": [],
   "source": [
    "# Suppress warnings\n",
    "warnings.filterwarnings('ignore')"
   ]
  },
  {
   "cell_type": "code",
   "execution_count": null,
   "metadata": {},
   "outputs": [],
   "source": [
    "label_encoder = LabelEncoder()\n",
    "y_train_encoded = label_encoder.fit_transform(y_train)\n",
    "y_test_encoded = label_encoder.transform(y_test)\n",
    "\n",
    "# Здесь были проверенны методы и был выбранн самый лучший по скорости и точности. Иначе если это запускать займёт более 20 минут.\n",
    "# Models and their hyperparameter grids\n",
    "# models = {\n",
    "    # 'SVM': {\n",
    "    #     'model': SVC(),\n",
    "    #     'params': {\n",
    "    #         'kernel': ['linear'],\n",
    "    #         'C': [10, 100, 200],\n",
    "    #         'gamma': ['scale']\n",
    "    #     }\n",
    "    #   },\n",
    "#       'Logistic Regression': {\n",
    "#           'model': LogisticRegression(max_iter=1000),\n",
    "#           'params': {\n",
    "#               'C': [0.01, 0.1, 1, 10, 100]\n",
    "#           }\n",
    "#       },'Multinomial NB': {\n",
    "#       'model': MultinomialNB(),\n",
    "#       'params': {\n",
    "#           'alpha': [0.01, 0.1, 1, 10]\n",
    "#       }\n",
    "#       },\n",
    "#       'Random Forest': {\n",
    "#           'model': RandomForestClassifier(),\n",
    "#           'params': {\n",
    "#               'n_estimators': [50, 100, 200, 500],\n",
    "#               'max_depth': [None, 10, 20, 30],\n",
    "#               'min_samples_split': [2, 5, 10]\n",
    "#           }\n",
    "#       },\n",
    "#       'Gradient Boosting': {\n",
    "#           'model': GradientBoostingClassifier(),\n",
    "#           'params': {\n",
    "#               'n_estimators': [50, 100, 200, 500],\n",
    "#               'learning_rate': [0.01, 0.1, 0.2, 0.5],\n",
    "#               'max_depth': [3, 5, 7, 9]\n",
    "#           }\n",
    "#       },\n",
    "#         'LightGBM': {\n",
    "#             'model': LGBMClassifier(verbose=-1),\n",
    "#             'params': {\n",
    "#                 'n_estimators': [50, 100, 200, 500],\n",
    "#                 'learning_rate': [0.01, 0.1, 0.2, 0.5],\n",
    "#                 'max_depth': [-1, 5, 10, 20]\n",
    "#             }\n",
    "#       }\n",
    "# }\n",
    "models = {    'SVM': {\n",
    "        'model': SVC(),\n",
    "        'params': {\n",
    "            'kernel': ['linear'],\n",
    "            'C': [10, 100, 200],\n",
    "            'gamma': ['scale']\n",
    "        }\n",
    "      }}"
   ]
  },
  {
   "cell_type": "code",
   "execution_count": null,
   "metadata": {},
   "outputs": [],
   "source": [
    "def evaluate_model(model, param_grid, X_train, y_train, X_test, y_test, cv_splits=5):\n",
    "    # Выполнение поиска по сетке с кросс-валидацией\n",
    "    grid_search = GridSearchCV(model, param_grid, cv=cv_splits, scoring='accuracy')\n",
    "    grid_search.fit(X_train, y_train)\n",
    "\n",
    "    best_model = grid_search.best_estimator_\n",
    "\n",
    "    # Средняя оценка кросс-валидации\n",
    "    mean_cv_score = grid_search.best_score_\n",
    "\n",
    "    # Обучение лучшей модели на всем обучающем наборе данных\n",
    "    best_model.fit(X_train, y_train)\n",
    "\n",
    "    # Прогнозы на тестовом наборе данных\n",
    "    y_pred = best_model.predict(X_test)\n",
    "\n",
    "    # Оценка модели на тестовом наборе данных\n",
    "    test_accuracy = accuracy_score(y_test, y_pred)\n",
    "    class_report = classification_report(y_test, y_pred)\n",
    "    conf_matrix = confusion_matrix(y_test, y_pred)\n",
    "\n",
    "    return mean_cv_score, test_accuracy, class_report, conf_matrix, grid_search.best_params_"
   ]
  },
  {
   "cell_type": "code",
   "execution_count": 64,
   "metadata": {},
   "outputs": [],
   "source": [
    "results = {}\n",
    "\n",
    "for model_name, model_info in models.items():\n",
    "    mean_cv_score, test_accuracy, class_report, conf_matrix, best_params = evaluate_model(\n",
    "        model_info['model'], model_info['params'], X_train, y_train_encoded, X_test, y_test_encoded\n",
    "    )\n",
    "    results[model_name] = {\n",
    "        'Mean CV Score': mean_cv_score,\n",
    "        'Test Accuracy': test_accuracy,\n",
    "        'Classification Report': class_report,\n",
    "        'Confusion Matrix': conf_matrix,\n",
    "        'Best Params': best_params\n",
    "    }"
   ]
  },
  {
   "cell_type": "code",
   "execution_count": 65,
   "metadata": {},
   "outputs": [
    {
     "data": {
      "text/plain": [
       "array(['ham', 'spam', '{\"mode\":\"full\"', nan], dtype=object)"
      ]
     },
     "execution_count": 65,
     "metadata": {},
     "output_type": "execute_result"
    }
   ],
   "source": [
    "label_encoder.classes_"
   ]
  },
  {
   "cell_type": "code",
   "execution_count": 66,
   "metadata": {},
   "outputs": [
    {
     "name": "stdout",
     "output_type": "stream",
     "text": [
      "Model: SVM\n",
      "Best Parameters: {'C': 10, 'gamma': 'scale', 'kernel': 'linear'}\n",
      "Mean Cross-Validation Score: 0.9769\n",
      "Test Accuracy: 0.9848\n",
      "\n",
      "Classification Report:\n",
      "              precision    recall  f1-score   support\n",
      "\n",
      "           0       0.99      0.99      0.99      2467\n",
      "           1       0.97      0.93      0.95       422\n",
      "           3       0.00      0.00      0.00         0\n",
      "\n",
      "    accuracy                           0.98      2889\n",
      "   macro avg       0.65      0.64      0.65      2889\n",
      "weighted avg       0.99      0.98      0.99      2889\n",
      "\n"
     ]
    },
    {
     "data": {
      "image/png": "[encoded data removed]",
      "text/plain": [
       "<Figure size 400x300 with 2 Axes>"
      ]
     },
     "metadata": {},
     "output_type": "display_data"
    },
    {
     "name": "stdout",
     "output_type": "stream",
     "text": [
      "\n",
      "Best Model: SVM with Test Accuracy: 0.9848\n"
     ]
    }
   ],
   "source": [
    "best_model_name = None\n",
    "best_test_accuracy = 0\n",
    "\n",
    "for model_name, result in results.items():\n",
    "    print(f\"Model: {model_name}\")\n",
    "    print(f\"Best Parameters: {result['Best Params']}\")\n",
    "    print(f\"Mean Cross-Validation Score: {result['Mean CV Score']:.4f}\")\n",
    "    print(f\"Test Accuracy: {result['Test Accuracy']:.4f}\")\n",
    "    print(\"\\nClassification Report:\")\n",
    "    print(result['Classification Report'])\n",
    "    plt.figure(figsize=(4, 3))\n",
    "    sns.heatmap(result['Confusion Matrix'], annot=True, fmt='d', cmap='Blues',\n",
    "                xticklabels=label_encoder.classes_, yticklabels=label_encoder.classes_)\n",
    "    plt.xlabel('Predicted')\n",
    "    plt.ylabel('Actual')\n",
    "    plt.title(f'Confusion Matrix Heatmap - {model_name}')\n",
    "    plt.show()\n",
    "\n",
    "    if result['Test Accuracy'] > best_test_accuracy:\n",
    "        best_test_accuracy = result['Test Accuracy']\n",
    "        best_model_name = model_name\n",
    "\n",
    "print(f\"\\nBest Model: {best_model_name} with Test Accuracy: {best_test_accuracy:.4f}\")"
   ]
  },
  {
   "cell_type": "code",
   "execution_count": null,
   "metadata": {},
   "outputs": [],
   "source": []
  }
 ],
 "metadata": {
  "kernelspec": {
   "display_name": "work_new",
   "language": "python",
   "name": "python3"
  },
  "language_info": {
   "codemirror_mode": {
    "name": "ipython",
    "version": 3
   },
   "file_extension": ".py",
   "mimetype": "text/x-python",
   "name": "python",
   "nbconvert_exporter": "python",
   "pygments_lexer": "ipython3",
   "version": "3.9.20"
  }
 },
 "nbformat": 4,
 "nbformat_minor": 2
}
